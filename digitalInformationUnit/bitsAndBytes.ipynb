{
 "cells": [
  {
   "cell_type": "markdown",
   "id": "4e73b55b",
   "metadata": {},
   "source": [
    "# Bits and Bytes"
   ]
  },
  {
   "cell_type": "markdown",
   "id": "a10a30c4",
   "metadata": {},
   "source": [
    "<b>Bit</b> - the smallest unit of data. A bit is represented by either a one or a zero.\n",
    "\n",
    "* Differentiate between 10,000 \"mega bits\" or \"mega bytes\"\n",
    "\n",
    "<b>Byte</b> - a string of eight ones or zeros\n",
    "\n",
    "A --> 01000001\n",
    "\n",
    "Owen --> 01001111 01110111 01100101 01101110 \n",
    "\n",
    "Computer Science --> 01000011 01101111 01101101 01110000 01110101 01110100 01100101 01110010 00100000 01010011 01100011 01101001 01100101 01101110 01100011 01100101 00001010\n",
    "\n",
    "255 --> 00110010 00110101 00110101 \n",
    "\n",
    "### Representing Color\n",
    "\n",
    "- Hexidecimal --> #3399ee\n",
    "- RGB --> rgb(255, 145, 98) --> 01001111 01110111 01100101 01101110, 00110001 00110100 00110101, 00111001 00111000"
   ]
  },
  {
   "cell_type": "markdown",
   "id": "c4f603fb",
   "metadata": {},
   "source": [
    "### Series of Bits\n",
    "\n",
    "2 bits --> 4 different combinations: 00, 10, 01, 11\n",
    "\n",
    "3 bits --> 8 different combinations: 000, 001, 010, 100, 101, 110, 011, 111\n",
    "\n",
    "4 bits --> 16 combinations\n",
    "\n",
    "5 bits --> 32 combinations\n",
    "\n",
    "6 bits --> 64 combinations\n",
    "\n",
    "7 bits --> 128 combinations\n",
    "\n",
    "8 bits --> 256 combinations\n",
    "\n",
    "9 bits --> 512 combinations\n",
    "\n",
    "10 bits --> 1024 combinations"
   ]
  },
  {
   "cell_type": "markdown",
   "id": "4ae14242",
   "metadata": {},
   "source": [
    "## Visualize Numbers in Decimal"
   ]
  },
  {
   "cell_type": "markdown",
   "id": "a70c7199",
   "metadata": {},
   "source": [
    "234\n",
    "\n",
    "(2 x 100) + (3 x 10) + (4 x 1) = 2341"
   ]
  },
  {
   "cell_type": "markdown",
   "id": "a8105cfa",
   "metadata": {},
   "source": [
    "## Binary Numbers"
   ]
  },
  {
   "cell_type": "markdown",
   "id": "718df45a",
   "metadata": {},
   "source": [
    "         0 0 0 1\n",
    "\n",
    "64 32 16 8 4 2 1 --> Binary Places\n",
    "        (8x0) + (4x0) + (2x0) + (1x1)\n",
    "\n",
    "0  0  1  1 0 1 0\n",
    "64 32 16 8 4 2 1\n",
    "\n",
    "(64x0) + (32x0) + (1x16) + (1x8) + (0x4) + (1x2) + (0x1)\n",
    "0 + 0 + 16 + 8 + 0 + 2 + 0"
   ]
  },
  {
   "cell_type": "markdown",
   "id": "f15a47b4",
   "metadata": {},
   "source": [
    "                      1    0    0    1    1    1  \n",
    "____ ____ ____ ____ ____ ____ ____ ____ ____ ____\n",
    "\n",
    "512s 256s 128s  64s  32s  16s  8s   4s   2s   1s \n",
    "100111 = 39\n",
    "\n",
    "101011 = 43\n",
    "\n",
    "100000 = 32\n",
    "\n",
    "1000000 = 64\n",
    "\n",
    "10000 = 16\n",
    "\n",
    "0111 = 7\n",
    "\n",
    "011111 = 31"
   ]
  },
  {
   "cell_type": "markdown",
   "id": "05716c8c",
   "metadata": {},
   "source": []
  }
 ],
 "metadata": {
  "language_info": {
   "name": "python"
  }
 },
 "nbformat": 4,
 "nbformat_minor": 5
}
