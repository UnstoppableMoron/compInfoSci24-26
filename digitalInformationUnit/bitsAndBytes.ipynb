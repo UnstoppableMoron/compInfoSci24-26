{
 "cells": [
  {
   "cell_type": "markdown",
   "id": "4e73b55b",
   "metadata": {},
   "source": [
    "# Bits and Bytes"
   ]
  },
  {
   "cell_type": "markdown",
   "id": "a10a30c4",
   "metadata": {},
   "source": [
    "<b>Bit</b> - the smallest unit of data. A bit is represented by either a one or a zero.\n",
    "\n",
    "* Differentiate between 10,000 \"mega bits\" or \"mega bytes\"\n",
    "\n",
    "<b>Byte</b> - a string of eight ones or zeros\n",
    "\n",
    "A --> 01000001\n",
    "\n",
    "Owen --> 01001111 01110111 01100101 01101110 \n",
    "\n",
    "Computer Science --> 01000011 01101111 01101101 01110000 01110101 01110100 01100101 01110010 00100000 01010011 01100011 01101001 01100101 01101110 01100011 01100101 00001010\n",
    "\n",
    "255 --> 00110010 00110101 00110101 \n",
    "\n",
    "### Representing Color\n",
    "\n",
    "- Hexidecimal --> #3399ee\n",
    "- RGB --> rgb(255, 145, 98) --> 01001111 01110111 01100101 01101110, 00110001 00110100 00110101, 00111001 00111000"
   ]
  },
  {
   "cell_type": "markdown",
   "id": "c4f603fb",
   "metadata": {},
   "source": [
    "### Series of Bits\n",
    "\n",
    "2 bits --> 4 different combinations: 00, 10, 01, 11\n",
    "\n",
    "3 bits --> 8 different combinations: 000, 001, 010, 100, 101, 110, 011, 111\n",
    "\n",
    "4 bits --> 16 combinations\n",
    "\n",
    "5 bits --> 32 combinations\n",
    "\n",
    "6 bits --> 64 combinations\n",
    "\n",
    "7 bits --> 128 combinations\n",
    "\n",
    "8 bits --> 256 combinations\n",
    "\n",
    "9 bits --> 512 combinations\n",
    "\n",
    "10 bits --> 1024 combinations"
   ]
  },
  {
   "cell_type": "markdown",
   "id": "4ae14242",
   "metadata": {},
   "source": [
    "## Visualize Numbers in Decimal"
   ]
  },
  {
   "cell_type": "markdown",
   "id": "a70c7199",
   "metadata": {},
   "source": [
    "234\n",
    "\n",
    "(2 x 100) + (3 x 10) + (4 x 1) = 2341"
   ]
  },
  {
   "cell_type": "markdown",
   "id": "a8105cfa",
   "metadata": {},
   "source": [
    "## Binary Numbers"
   ]
  },
  {
   "cell_type": "markdown",
   "id": "718df45a",
   "metadata": {},
   "source": [
    "         0 0 0 1\n",
    "\n",
    "64 32 16 8 4 2 1 --> Binary Places\n",
    "        (8x0) + (4x0) + (2x0) + (1x1)\n",
    "\n",
    "0  0  1  1 0 1 0\n",
    "64 32 16 8 4 2 1\n",
    "\n",
    "(64x0) + (32x0) + (1x16) + (1x8) + (0x4) + (1x2) + (0x1)\n",
    "0 + 0 + 16 + 8 + 0 + 2 + 0"
   ]
  },
  {
   "cell_type": "markdown",
   "id": "f15a47b4",
   "metadata": {},
   "source": [
    "<pre>                     1    0    0    1    1    1  \n",
    "____ ____ ____ ____ ____ ____ ____ ____ ____ ____\n",
    "\n",
    "512s 256s 128s  64s  32s  16s  8s   4s   2s   1s </pre>\n",
    "100111 = 39\n",
    "\n",
    "101011 = 43\n",
    "\n",
    "100000 = 32\n",
    "\n",
    "1000000 = 64\n",
    "\n",
    "10000 = 16\n",
    "\n",
    "0111 = 7\n",
    "\n",
    "011111 = 31"
   ]
  },
  {
   "cell_type": "markdown",
   "id": "05716c8c",
   "metadata": {},
   "source": [
    "## Limitations of Storing Numbers"
   ]
  },
  {
   "cell_type": "markdown",
   "id": "a886c245",
   "metadata": {},
   "source": [
    "<b>Integer</b> - any whole number\n",
    "\n",
    "Integers can be negative or positive:\n",
    "120, 10, 0, -20, 42\n",
    "\n",
    "#### Example of a computer using 4 bits to represent an integer\n",
    "\n",
    "0001\n",
    "\n",
    "<pre>+/-    4    2    1\n",
    "\n",
    "sign  2^2  2^1  2^0</pre>"
   ]
  },
  {
   "cell_type": "markdown",
   "id": "f24b4844",
   "metadata": {},
   "source": [
    "What would happen if we ran a program like this on the 4-bit computer, where the largest possible integer is 7?\n",
    "\n",
    "<b>Overflow</b> - when a computer reaches its storage limit capabilities, so processing numbers any further will create an overflow error."
   ]
  },
  {
   "cell_type": "code",
   "execution_count": 2,
   "id": "368f8550",
   "metadata": {},
   "outputs": [
    {
     "name": "stdout",
     "output_type": "stream",
     "text": [
      "8\n"
     ]
    }
   ],
   "source": [
    "x = 7\n",
    "y = x + 1   # 8\n",
    "# On a 4 bit machine, you would get an error:\n",
    "# Overflow error or number is too large\n",
    "\n",
    "# Could truncate (change 8 to 7)\n",
    "# OR wrap the number around, (instead of 8, it would get stored as 1)\n",
    "\n",
    "print(y)"
   ]
  },
  {
   "cell_type": "markdown",
   "id": "b2d27244",
   "metadata": {},
   "source": [
    "#### Modern computer systems use 64bit architectures.\n",
    "\n",
    "This means that modern computers can store numbers safely up to:\n",
    "## 9,007,199,254,740,991 <i>or</i> 2^53 -1"
   ]
  },
  {
   "cell_type": "markdown",
   "id": "51509ab4",
   "metadata": {},
   "source": [
    "### Floating-point representation"
   ]
  },
  {
   "cell_type": "markdown",
   "id": "8cb5de36",
   "metadata": {},
   "source": [
    "Floating-point or decimal numbers are trickier to represent in computer memory.\n",
    "\n",
    "Numbers like:\n",
    "<pre>2/5   1.234   9.99999   42.0   3.14159...</pre>"
   ]
  },
  {
   "cell_type": "markdown",
   "id": "4f673e9f",
   "metadata": {},
   "source": [
    "Computers use <b>floating-point representation</b>:\n",
    "\n",
    "<pre>a number is multiplied by a base that's raised to an exponent:\n",
    "300 = 3 * 10^2\n",
    "\n",
    "Since we use binary:\n",
    "128 = 1 * 2^7\n",
    "256 = 1 * 2^8</pre>"
   ]
  },
  {
   "cell_type": "markdown",
   "id": "7ca38a28",
   "metadata": {},
   "source": [
    "<pre>Numbers between powers of 2:\n",
    "\n",
    "160 = 1.25 * 2^7\n",
    "192 = 1.50 * 2^7\n",
    "224 = 1.75 * 2^7</pre>"
   ]
  },
  {
   "cell_type": "markdown",
   "id": "52ee47b9",
   "metadata": {},
   "source": [
    "### What about non-integers?\n",
    "\n",
    "<pre>\n",
    "0.50 = 1 * 2^-1\n",
    "0.25 = 1 * 2^-2\n",
    "</pre>\n",
    "\n",
    "### What about floating-points?\n",
    "\n",
    "<pre>\n",
    "0.750 = 1.5 * 2^-1\n",
    "0.375 = 1.5 * 2^-2\n",
    "</pre>\n",
    "\n",
    "<pre>0.375 = 0011111111011000000000000000000000000000000000000000000000000000\n",
    "1 bit --> the sign\n",
    "11 bits --> the exponent\n",
    "52 bits --> number in front of the decimal\n",
    "</pre>"
   ]
  },
  {
   "cell_type": "markdown",
   "id": "a6b86f4f",
   "metadata": {},
   "source": [
    "### Roundoff errors"
   ]
  },
  {
   "cell_type": "markdown",
   "id": "172f957c",
   "metadata": {},
   "source": [
    "All floating-point numbers cannot be fully repesented using binary\n",
    "\n",
    "1/3 = 0.333333...\n",
    "\n",
    "1/3 = 1.3 x 2^-2 --> .010101010101..."
   ]
  },
  {
   "cell_type": "code",
   "execution_count": 3,
   "id": "726904ef",
   "metadata": {},
   "outputs": [
    {
     "name": "stdout",
     "output_type": "stream",
     "text": [
      "0.30000000000000004\n"
     ]
    }
   ],
   "source": [
    "result = 0.1 + 0.1 + 0.1\n",
    "print(result)"
   ]
  },
  {
   "cell_type": "markdown",
   "id": "01e3c07b",
   "metadata": {},
   "source": [
    "The more bits we can use, the more precise our numbers and calculations will be. Modern 64-bit systems offer a high enough precision for low-stakes calculations."
   ]
  },
  {
   "cell_type": "markdown",
   "id": "844f2166",
   "metadata": {},
   "source": []
  }
 ],
 "metadata": {
  "kernelspec": {
   "display_name": "Python 3",
   "language": "python",
   "name": "python3"
  },
  "language_info": {
   "codemirror_mode": {
    "name": "ipython",
    "version": 3
   },
   "file_extension": ".py",
   "mimetype": "text/x-python",
   "name": "python",
   "nbconvert_exporter": "python",
   "pygments_lexer": "ipython3",
   "version": "3.12.1"
  }
 },
 "nbformat": 4,
 "nbformat_minor": 5
}
