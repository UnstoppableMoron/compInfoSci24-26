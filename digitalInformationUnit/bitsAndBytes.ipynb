{
 "cells": [
  {
   "cell_type": "markdown",
   "id": "4e73b55b",
   "metadata": {},
   "source": [
    "# Bits and Bytes"
   ]
  },
  {
   "cell_type": "markdown",
   "id": "a10a30c4",
   "metadata": {},
   "source": [
    "<b>Bit</b> - the smallest unit of data. A bit is represented by either a one or a zero.\n",
    "\n",
    "* Differentiate between 10,000 \"mega bits\" or \"mega bytes\"\n",
    "\n",
    "<b>Byte</b> - a string of eight ones or zeros\n",
    "\n",
    "A --> 01000001\n",
    "\n",
    "Owen --> 01001111 01110111 01100101 01101110 \n",
    "\n",
    "Computer Science --> 01000011 01101111 01101101 01110000 01110101 01110100 01100101 01110010 00100000 01010011 01100011 01101001 01100101 01101110 01100011 01100101 00001010\n",
    "\n",
    "255 --> 00110010 00110101 00110101 \n",
    "\n",
    "### Representing Color\n",
    "\n",
    "- Hexidecimal --> #3399ee\n",
    "- RGB --> rgb(255, 145, 98) --> 01001111 01110111 01100101 01101110, 00110001 00110100 00110101, 00111001 00111000"
   ]
  },
  {
   "cell_type": "markdown",
   "id": "c4f603fb",
   "metadata": {},
   "source": [
    "### Series of Bits\n",
    "\n",
    "2 bits --> 4 different combinations: 00, 10, 01, 11\n",
    "\n",
    "3 bits --> 8 different combinations: 000, 001, 010, 100, 101, 110, 011, 111\n",
    "\n",
    "4 bits --> 16 combinations\n",
    "\n",
    "5 bits --> 32 combinations\n",
    "\n",
    "6 bits --> 64 combinations\n",
    "\n",
    "7 bits --> 128 combinations\n",
    "\n",
    "8 bits --> 256 combinations\n",
    "\n",
    "9 bits --> 512 combinations\n",
    "\n",
    "10 bits --> 1024 combinations"
   ]
  },
  {
   "cell_type": "markdown",
   "id": "4ae14242",
   "metadata": {},
   "source": [
    "### Bytes\n",
    "<b>Byte</b> - a combination of eight bits"
   ]
  },
  {
   "cell_type": "markdown",
   "id": "a70c7199",
   "metadata": {},
   "source": []
  }
 ],
 "metadata": {
  "language_info": {
   "name": "python"
  }
 },
 "nbformat": 4,
 "nbformat_minor": 5
}
